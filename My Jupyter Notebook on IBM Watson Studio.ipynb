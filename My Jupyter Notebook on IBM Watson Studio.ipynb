{
    "cells": [
        {
            "cell_type": "markdown",
            "metadata": {
                "collapsed": true
            },
            "source": "# My Jupyter Notebook on IBM Watson Studio"
        },
        {
            "cell_type": "markdown",
            "metadata": {},
            "source": "**Jakub Glinkowski** <br> Quantitative Analyst"
        },
        {
            "cell_type": "markdown",
            "metadata": {},
            "source": "*Interested in data science as I like applying a data driven approach to problem solving*"
        },
        {
            "cell_type": "markdown",
            "metadata": {},
            "source": "### Prints \"Hello\" to viewers 1-3"
        },
        {
            "cell_type": "code",
            "execution_count": 16,
            "metadata": {},
            "outputs": [
                {
                    "name": "stdout",
                    "output_type": "stream",
                    "text": "Hello viewer number 1!\nHello viewer number 2!\nHello viewer number 3!\n"
                }
            ],
            "source": "for i in range(1,4):\n    print(f\"Hello viewer number {i}!\")"
        },
        {
            "cell_type": "markdown",
            "metadata": {},
            "source": "<ol>\n<li>Viewer 1</li>\n<li>Viewer 2</li>\n<li>Viewer 3</li>\n</ol>"
        },
        {
            "cell_type": "markdown",
            "metadata": {},
            "source": "<ul>\n<li>Viewer 1</li>\n<li>Viewer 2</li>\n<li>Viewer 3</li>\n</ul>"
        },
        {
            "cell_type": "markdown",
            "metadata": {},
            "source": "# <a>\"https://cloud.ibm.com/login\" Link to Cloud IBM</a>"
        },
        {
            "cell_type": "code",
            "execution_count": null,
            "metadata": {},
            "outputs": [],
            "source": ""
        }
    ],
    "metadata": {
        "kernelspec": {
            "display_name": "Python 3.9",
            "language": "python",
            "name": "python3"
        },
        "language_info": {
            "codemirror_mode": {
                "name": "ipython",
                "version": 3
            },
            "file_extension": ".py",
            "mimetype": "text/x-python",
            "name": "python",
            "nbconvert_exporter": "python",
            "pygments_lexer": "ipython3",
            "version": "3.9.12"
        }
    },
    "nbformat": 4,
    "nbformat_minor": 1
}